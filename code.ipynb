{
 "cells": [
  {
   "cell_type": "code",
   "execution_count": 4,
   "metadata": {},
   "outputs": [],
   "source": [
    "import os\n",
    "import requests\n",
    "from bs4 import BeautifulSoup\n",
    "from urllib.parse import urljoin\n",
    "import urllib.request"
   ]
  },
  {
   "cell_type": "code",
   "execution_count": 5,
   "metadata": {},
   "outputs": [],
   "source": [
    "\n",
    " \n",
    "# Base URL\n",
    "test_url = \"https://cis.whoi.edu/science/B/whalesounds/bestOf.cfm?code=CC2A\""
   ]
  },
  {
   "cell_type": "code",
   "execution_count": 6,
   "metadata": {},
   "outputs": [
    {
     "name": "stdout",
     "output_type": "stream",
     "text": [
      "Downloading 66038001.wav from https://cis.whoi.edu/science/B/whalesounds/WhaleSounds/66038001.wav\n",
      "Downloading 66038002.wav from https://cis.whoi.edu/science/B/whalesounds/WhaleSounds/66038002.wav\n",
      "Downloading 66038003.wav from https://cis.whoi.edu/science/B/whalesounds/WhaleSounds/66038003.wav\n",
      "Downloading 66038004.wav from https://cis.whoi.edu/science/B/whalesounds/WhaleSounds/66038004.wav\n",
      "Downloading 66038005.wav from https://cis.whoi.edu/science/B/whalesounds/WhaleSounds/66038005.wav\n",
      "Downloading 66038007.wav from https://cis.whoi.edu/science/B/whalesounds/WhaleSounds/66038007.wav\n",
      "Downloading 70025001.wav from https://cis.whoi.edu/science/B/whalesounds/WhaleSounds/70025001.wav\n",
      "Downloading 70025002.wav from https://cis.whoi.edu/science/B/whalesounds/WhaleSounds/70025002.wav\n",
      "Downloading 70025003.wav from https://cis.whoi.edu/science/B/whalesounds/WhaleSounds/70025003.wav\n",
      "Downloading 70025004.wav from https://cis.whoi.edu/science/B/whalesounds/WhaleSounds/70025004.wav\n",
      "Downloading 70025005.wav from https://cis.whoi.edu/science/B/whalesounds/WhaleSounds/70025005.wav\n",
      "Downloading 70025006.wav from https://cis.whoi.edu/science/B/whalesounds/WhaleSounds/70025006.wav\n",
      "Downloading 70025007.wav from https://cis.whoi.edu/science/B/whalesounds/WhaleSounds/70025007.wav\n",
      "Downloading 70025008.wav from https://cis.whoi.edu/science/B/whalesounds/WhaleSounds/70025008.wav\n",
      "Downloading 70025009.wav from https://cis.whoi.edu/science/B/whalesounds/WhaleSounds/70025009.wav\n",
      "Downloading 71012001.wav from https://cis.whoi.edu/science/B/whalesounds/WhaleSounds/71012001.wav\n",
      "Downloading 71012002.wav from https://cis.whoi.edu/science/B/whalesounds/WhaleSounds/71012002.wav\n",
      "Downloading 71012003.wav from https://cis.whoi.edu/science/B/whalesounds/WhaleSounds/71012003.wav\n",
      "Downloading 71012004.wav from https://cis.whoi.edu/science/B/whalesounds/WhaleSounds/71012004.wav\n",
      "Downloading 71012005.wav from https://cis.whoi.edu/science/B/whalesounds/WhaleSounds/71012005.wav\n",
      "Downloading 71012006.wav from https://cis.whoi.edu/science/B/whalesounds/WhaleSounds/71012006.wav\n",
      "Downloading 71012007.wav from https://cis.whoi.edu/science/B/whalesounds/WhaleSounds/71012007.wav\n",
      "Downloading 71012008.wav from https://cis.whoi.edu/science/B/whalesounds/WhaleSounds/71012008.wav\n",
      "Downloading 71012009.wav from https://cis.whoi.edu/science/B/whalesounds/WhaleSounds/71012009.wav\n",
      "Downloading 72021005.wav from https://cis.whoi.edu/science/B/whalesounds/WhaleSounds/72021005.wav\n",
      "Downloading 7202100T.wav from https://cis.whoi.edu/science/B/whalesounds/WhaleSounds/7202100T.wav\n",
      "Downloading 7202100V.wav from https://cis.whoi.edu/science/B/whalesounds/WhaleSounds/7202100V.wav\n",
      "Downloading 7202100Z.wav from https://cis.whoi.edu/science/B/whalesounds/WhaleSounds/7202100Z.wav\n",
      "Downloading 78018001.wav from https://cis.whoi.edu/science/B/whalesounds/WhaleSounds/78018001.wav\n",
      "Downloading 78018002.wav from https://cis.whoi.edu/science/B/whalesounds/WhaleSounds/78018002.wav\n",
      "Downloading 78018003.wav from https://cis.whoi.edu/science/B/whalesounds/WhaleSounds/78018003.wav\n",
      "Downloading 78018005.wav from https://cis.whoi.edu/science/B/whalesounds/WhaleSounds/78018005.wav\n",
      "Downloading 7801800B.wav from https://cis.whoi.edu/science/B/whalesounds/WhaleSounds/7801800B.wav\n",
      "Downloading 7801800D.wav from https://cis.whoi.edu/science/B/whalesounds/WhaleSounds/7801800D.wav\n",
      "Downloading 7801800H.wav from https://cis.whoi.edu/science/B/whalesounds/WhaleSounds/7801800H.wav\n",
      "Downloading 7801800J.wav from https://cis.whoi.edu/science/B/whalesounds/WhaleSounds/7801800J.wav\n",
      "Downloading 7801800M.wav from https://cis.whoi.edu/science/B/whalesounds/WhaleSounds/7801800M.wav\n"
     ]
    }
   ],
   "source": [
    "\n",
    " \n",
    "# Function to scrape and download audio files\n",
    "def scrape_test_audio_files(base_url):\n",
    "    # Create a directory to save audio files\n",
    "    if not os.path.exists('test_audio_files'):\n",
    "        os.makedirs('test_audio_files')\n",
    " \n",
    "    # Get the page content\n",
    "    response = requests.get(base_url)\n",
    "    soup = BeautifulSoup(response.content, 'html.parser')\n",
    " \n",
    "    # Find all audio file links\n",
    "    audio_links = soup.find_all('a', href=True)\n",
    " \n",
    "    for audio_link in audio_links:\n",
    "        audio_file = audio_link['href']\n",
    "        if audio_file.endswith('.wav') or audio_file.endswith('.mp3'):\n",
    "            audio_url = urljoin(base_url, audio_file)\n",
    "            audio_name = audio_url.split('/')[-1]\n",
    " \n",
    "            # Download the audio file\n",
    "            print(f\"Downloading {audio_name} from {audio_url}\")\n",
    "            audio_path = os.path.join('test_audio_files', audio_name)\n",
    "            urllib.request.urlretrieve(audio_url, audio_path)\n",
    " \n",
    "# Run the scraper\n",
    "scrape_test_audio_files(test_url)"
   ]
  }
 ],
 "metadata": {
  "kernelspec": {
   "display_name": "XPERT",
   "language": "python",
   "name": "python3"
  },
  "language_info": {
   "codemirror_mode": {
    "name": "ipython",
    "version": 3
   },
   "file_extension": ".py",
   "mimetype": "text/x-python",
   "name": "python",
   "nbconvert_exporter": "python",
   "pygments_lexer": "ipython3",
   "version": "3.11.9"
  }
 },
 "nbformat": 4,
 "nbformat_minor": 2
}

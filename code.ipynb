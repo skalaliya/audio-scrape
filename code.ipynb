{
 "cells": [
  {
   "cell_type": "code",
   "execution_count": 10,
   "metadata": {},
   "outputs": [],
   "source": [
    "import os\n",
    "import requests\n",
    "from bs4 import BeautifulSoup\n",
    "from urllib.parse import urljoin\n",
    "import urllib.request"
   ]
  },
  {
   "cell_type": "code",
   "execution_count": 11,
   "metadata": {},
   "outputs": [],
   "source": [
    "\n",
    " \n",
    "# Base URL\n",
    "test_url = \"https://cis.whoi.edu/science/B/whalesounds/bestOf.cfm?code=BD15B\""
   ]
  },
  {
   "cell_type": "code",
   "execution_count": 12,
   "metadata": {},
   "outputs": [
    {
     "name": "stdout",
     "output_type": "stream",
     "text": [
      "Downloading 83006001.wav from https://cis.whoi.edu/science/B/whalesounds/WhaleSounds/83006001.wav\n",
      "Downloading 83006002.wav from https://cis.whoi.edu/science/B/whalesounds/WhaleSounds/83006002.wav\n",
      "Downloading 83006003.wav from https://cis.whoi.edu/science/B/whalesounds/WhaleSounds/83006003.wav\n",
      "Downloading 83006008.wav from https://cis.whoi.edu/science/B/whalesounds/WhaleSounds/83006008.wav\n",
      "Downloading 83006009.wav from https://cis.whoi.edu/science/B/whalesounds/WhaleSounds/83006009.wav\n",
      "Downloading 8300600A.wav from https://cis.whoi.edu/science/B/whalesounds/WhaleSounds/8300600A.wav\n",
      "Downloading 8300600B.wav from https://cis.whoi.edu/science/B/whalesounds/WhaleSounds/8300600B.wav\n",
      "Downloading 8300600C.wav from https://cis.whoi.edu/science/B/whalesounds/WhaleSounds/8300600C.wav\n",
      "Downloading 8300600D.wav from https://cis.whoi.edu/science/B/whalesounds/WhaleSounds/8300600D.wav\n",
      "Downloading 8300600E.wav from https://cis.whoi.edu/science/B/whalesounds/WhaleSounds/8300600E.wav\n",
      "Downloading 8300600F.wav from https://cis.whoi.edu/science/B/whalesounds/WhaleSounds/8300600F.wav\n",
      "Downloading 8300600N.wav from https://cis.whoi.edu/science/B/whalesounds/WhaleSounds/8300600N.wav\n",
      "Downloading 8300601F.wav from https://cis.whoi.edu/science/B/whalesounds/WhaleSounds/8300601F.wav\n",
      "Downloading 8300601G.wav from https://cis.whoi.edu/science/B/whalesounds/WhaleSounds/8300601G.wav\n",
      "Downloading 8300601J.wav from https://cis.whoi.edu/science/B/whalesounds/WhaleSounds/8300601J.wav\n",
      "Downloading 8300601K.wav from https://cis.whoi.edu/science/B/whalesounds/WhaleSounds/8300601K.wav\n",
      "Downloading 8300601R.wav from https://cis.whoi.edu/science/B/whalesounds/WhaleSounds/8300601R.wav\n",
      "Downloading 8300601V.wav from https://cis.whoi.edu/science/B/whalesounds/WhaleSounds/8300601V.wav\n",
      "Downloading 83006022.wav from https://cis.whoi.edu/science/B/whalesounds/WhaleSounds/83006022.wav\n",
      "Downloading 8300602B.wav from https://cis.whoi.edu/science/B/whalesounds/WhaleSounds/8300602B.wav\n",
      "Downloading 8300602C.wav from https://cis.whoi.edu/science/B/whalesounds/WhaleSounds/8300602C.wav\n",
      "Downloading 8300602E.wav from https://cis.whoi.edu/science/B/whalesounds/WhaleSounds/8300602E.wav\n",
      "Downloading 8300602M.wav from https://cis.whoi.edu/science/B/whalesounds/WhaleSounds/8300602M.wav\n",
      "Downloading 8300602Q.wav from https://cis.whoi.edu/science/B/whalesounds/WhaleSounds/8300602Q.wav\n",
      "Downloading 8300602T.wav from https://cis.whoi.edu/science/B/whalesounds/WhaleSounds/8300602T.wav\n",
      "Downloading 83006031.wav from https://cis.whoi.edu/science/B/whalesounds/WhaleSounds/83006031.wav\n",
      "Downloading 8300603C.wav from https://cis.whoi.edu/science/B/whalesounds/WhaleSounds/8300603C.wav\n",
      "Downloading 8300603S.wav from https://cis.whoi.edu/science/B/whalesounds/WhaleSounds/8300603S.wav\n",
      "Downloading 8300603U.wav from https://cis.whoi.edu/science/B/whalesounds/WhaleSounds/8300603U.wav\n",
      "Downloading 83006047.wav from https://cis.whoi.edu/science/B/whalesounds/WhaleSounds/83006047.wav\n",
      "Downloading 8300604A.wav from https://cis.whoi.edu/science/B/whalesounds/WhaleSounds/8300604A.wav\n",
      "Downloading 8300604C.wav from https://cis.whoi.edu/science/B/whalesounds/WhaleSounds/8300604C.wav\n",
      "Downloading 8300604D.wav from https://cis.whoi.edu/science/B/whalesounds/WhaleSounds/8300604D.wav\n",
      "Downloading 8300604E.wav from https://cis.whoi.edu/science/B/whalesounds/WhaleSounds/8300604E.wav\n",
      "Downloading 8300604F.wav from https://cis.whoi.edu/science/B/whalesounds/WhaleSounds/8300604F.wav\n",
      "Downloading 8300604G.wav from https://cis.whoi.edu/science/B/whalesounds/WhaleSounds/8300604G.wav\n",
      "Downloading 8300604H.wav from https://cis.whoi.edu/science/B/whalesounds/WhaleSounds/8300604H.wav\n",
      "Downloading 8300604I.wav from https://cis.whoi.edu/science/B/whalesounds/WhaleSounds/8300604I.wav\n",
      "Downloading 8300604J.wav from https://cis.whoi.edu/science/B/whalesounds/WhaleSounds/8300604J.wav\n",
      "Downloading 8300604K.wav from https://cis.whoi.edu/science/B/whalesounds/WhaleSounds/8300604K.wav\n",
      "Downloading 8300604L.wav from https://cis.whoi.edu/science/B/whalesounds/WhaleSounds/8300604L.wav\n",
      "Downloading 8300604M.wav from https://cis.whoi.edu/science/B/whalesounds/WhaleSounds/8300604M.wav\n",
      "Downloading 8300604N.wav from https://cis.whoi.edu/science/B/whalesounds/WhaleSounds/8300604N.wav\n",
      "Downloading 8300604O.wav from https://cis.whoi.edu/science/B/whalesounds/WhaleSounds/8300604O.wav\n",
      "Downloading 8300604P.wav from https://cis.whoi.edu/science/B/whalesounds/WhaleSounds/8300604P.wav\n",
      "Downloading 8300604Q.wav from https://cis.whoi.edu/science/B/whalesounds/WhaleSounds/8300604Q.wav\n",
      "Downloading 8300604R.wav from https://cis.whoi.edu/science/B/whalesounds/WhaleSounds/8300604R.wav\n",
      "Downloading 8300604S.wav from https://cis.whoi.edu/science/B/whalesounds/WhaleSounds/8300604S.wav\n",
      "Downloading 8300604T.wav from https://cis.whoi.edu/science/B/whalesounds/WhaleSounds/8300604T.wav\n",
      "Downloading 83035001.wav from https://cis.whoi.edu/science/B/whalesounds/WhaleSounds/83035001.wav\n",
      "Downloading 83035002.wav from https://cis.whoi.edu/science/B/whalesounds/WhaleSounds/83035002.wav\n",
      "Downloading 83035003.wav from https://cis.whoi.edu/science/B/whalesounds/WhaleSounds/83035003.wav\n",
      "Downloading 83035006.wav from https://cis.whoi.edu/science/B/whalesounds/WhaleSounds/83035006.wav\n",
      "Downloading 83035007.wav from https://cis.whoi.edu/science/B/whalesounds/WhaleSounds/83035007.wav\n",
      "Downloading 8303500N.wav from https://cis.whoi.edu/science/B/whalesounds/WhaleSounds/8303500N.wav\n",
      "Downloading 8303501L.wav from https://cis.whoi.edu/science/B/whalesounds/WhaleSounds/8303501L.wav\n",
      "Downloading 8303501W.wav from https://cis.whoi.edu/science/B/whalesounds/WhaleSounds/8303501W.wav\n",
      "Downloading 8303503N.wav from https://cis.whoi.edu/science/B/whalesounds/WhaleSounds/8303503N.wav\n",
      "Downloading 8303503O.wav from https://cis.whoi.edu/science/B/whalesounds/WhaleSounds/8303503O.wav\n",
      "Downloading 8303503P.wav from https://cis.whoi.edu/science/B/whalesounds/WhaleSounds/8303503P.wav\n",
      "Downloading 8303503Q.wav from https://cis.whoi.edu/science/B/whalesounds/WhaleSounds/8303503Q.wav\n",
      "Downloading 8303503R.wav from https://cis.whoi.edu/science/B/whalesounds/WhaleSounds/8303503R.wav\n",
      "Downloading 8303503S.wav from https://cis.whoi.edu/science/B/whalesounds/WhaleSounds/8303503S.wav\n"
     ]
    }
   ],
   "source": [
    "\n",
    " \n",
    "# Function to scrape and download audio files\n",
    "def scrape_test_audio_files(base_url):\n",
    "    # Create a directory to save audio files\n",
    "    if not os.path.exists('test_audio_files'):\n",
    "        os.makedirs('test_audio_files')\n",
    " \n",
    "    # Get the page content\n",
    "    response = requests.get(base_url)\n",
    "    soup = BeautifulSoup(response.content, 'html.parser')\n",
    " \n",
    "    # Find all audio file links\n",
    "    audio_links = soup.find_all('a', href=True)\n",
    " \n",
    "    for audio_link in audio_links:\n",
    "        audio_file = audio_link['href']\n",
    "        if audio_file.endswith('.wav') or audio_file.endswith('.mp3'):\n",
    "            audio_url = urljoin(base_url, audio_file)\n",
    "            audio_name = audio_url.split('/')[-1]\n",
    " \n",
    "            # Download the audio file\n",
    "            print(f\"Downloading {audio_name} from {audio_url}\")\n",
    "            audio_path = os.path.join('test_audio_files', audio_name)\n",
    "            urllib.request.urlretrieve(audio_url, audio_path)\n",
    " \n",
    "# Run the scraper\n",
    "scrape_test_audio_files(test_url)"
   ]
  }
 ],
 "metadata": {
  "kernelspec": {
   "display_name": "XPERT",
   "language": "python",
   "name": "python3"
  },
  "language_info": {
   "codemirror_mode": {
    "name": "ipython",
    "version": 3
   },
   "file_extension": ".py",
   "mimetype": "text/x-python",
   "name": "python",
   "nbconvert_exporter": "python",
   "pygments_lexer": "ipython3",
   "version": "3.11.9"
  }
 },
 "nbformat": 4,
 "nbformat_minor": 2
}
